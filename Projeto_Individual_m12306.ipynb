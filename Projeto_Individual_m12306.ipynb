{
  "nbformat": 4,
  "nbformat_minor": 0,
  "metadata": {
    "colab": {
      "provenance": [],
      "collapsed_sections": []
    },
    "kernelspec": {
      "name": "python3",
      "display_name": "Python 3"
    },
    "language_info": {
      "name": "python"
    }
  },
  "cells": [
    {
      "cell_type": "markdown",
      "source": [
        "## Import the required libraries\n"
      ],
      "metadata": {
        "id": "JtijSdyDL2Vt"
      }
    },
    {
      "cell_type": "code",
      "execution_count": 1,
      "metadata": {
        "id": "87O_whI5Lxme"
      },
      "outputs": [],
      "source": [
        "import numpy as np\n",
        "import pandas as pd\n",
        "from sklearn.model_selection import train_test_split\n",
        "from sklearn.preprocessing import StandardScaler\n",
        "from sklearn.metrics import confusion_matrix\n",
        "from sklearn.metrics import roc_curve, auc\n",
        "from sklearn.metrics import classification_report\n",
        "from sklearn.model_selection import StratifiedKFold\n",
        "from sklearn.model_selection import cross_val_score\n",
        "import matplotlib.pyplot as plt\n",
        "\n",
        "# Classifiers\n",
        "from sklearn.neighbors import KNeighborsClassifier\n",
        "from sklearn.tree import DecisionTreeClassifier\n",
        "from sklearn.ensemble import RandomForestClassifier\n",
        "from sklearn.svm import SVC\n",
        "from sklearn.linear_model import LogisticRegression\n",
        "from sklearn.neural_network import MLPClassifier"
      ]
    },
    {
      "cell_type": "markdown",
      "source": [
        "## Read the data from the .csv file and transfer it to a Pandas DataFrame"
      ],
      "metadata": {
        "id": "4VhCXnjDL7vD"
      }
    },
    {
      "cell_type": "code",
      "source": [
        "# Load dataset from csv file\n",
        "columnNames = ['mntcm', 'mxtwm', 'rfseas', 'tann', 'latitude', 'longitude', 'y']\n",
        "data = pd.read_csv('dataset_bees.csv', names=columnNames)"
      ],
      "metadata": {
        "id": "WibMnjK6MKCq"
      },
      "execution_count": 4,
      "outputs": []
    },
    {
      "cell_type": "markdown",
      "source": [
        "## Balance the data by removing all outliers\n",
        "\n",
        "This works by using a custom-made algorithm based on the euclidian distance. Since the imbalanced data comes from pseudo-absences (label 0) that are between the presences (label 1) it is only natural to remove all the pseudo-absences that are close to the presences by a determined threshold. The optimal threshold is **23** units of distance.\n",
        "\n",
        "This method proved to be super efficient giving excelent results in the evaluation phase."
      ],
      "metadata": {
        "id": "d3MsWN1rMT2R"
      }
    },
    {
      "cell_type": "code",
      "source": [
        "# Define threshold\n",
        "threshold = 23.0\n",
        "\n",
        "# Divide the data into positives and negatives\n",
        "data_positives = data[data['y'] == 1]\n",
        "data_negatives = data[data['y'] == 0]\n",
        "    \n",
        "# Cycle through all the positives\n",
        "for index, row in data_positives.iterrows():\n",
        "    # Get the latitude and longitude of the positive\n",
        "    lat = row['latitude']\n",
        "    lon = row['longitude']\n",
        "    # Get the euclidian distance between the positive and all the negatives\n",
        "    distance = np.sqrt((data_negatives['latitude'] - lat)**2 + (data_negatives['longitude'] - lon)**2)\n",
        "    \n",
        "    # Remove all the negatives that are too close to the positive\n",
        "    data_negatives = data_negatives[distance > threshold]\n",
        "\n",
        "# Return the new data\n",
        "data = pd.concat([data_positives, data_negatives])"
      ],
      "metadata": {
        "id": "Ch-7nQtUNvze"
      },
      "execution_count": 6,
      "outputs": []
    },
    {
      "cell_type": "markdown",
      "source": [
        "## Deal with the missing values in the dataset (NaN values)\n",
        "\n",
        "There are many algorithms developed to deal with missing values. Some aim to remove missing values others to fill these. In this context, and since the missing values belong to the presences, it is crucial not to delete them. Therefore every NaN value will be replaced by the average of all values ​​belonging to the same class (in this case class 1)."
      ],
      "metadata": {
        "id": "dwlAfIicOKSb"
      }
    },
    {
      "cell_type": "code",
      "source": [
        "# Deal with missing values in dataset (replace with mean value of rows with the same y (label) value)) \n",
        "data = data.fillna(data.groupby('y').transform('mean'))"
      ],
      "metadata": {
        "id": "S7EavaBeQloU"
      },
      "execution_count": 7,
      "outputs": []
    },
    {
      "cell_type": "markdown",
      "source": [
        "## Split the data into features and labels and then split it into training and testing data "
      ],
      "metadata": {
        "id": "iMfXU5kFQ0ET"
      }
    },
    {
      "cell_type": "code",
      "source": [
        "# Split dataset into features and labels\n",
        "X = data[['mntcm', 'mxtwm', 'rfseas', 'tann']]\n",
        "y = data['y']\n",
        "\n",
        "# Split the dataset randomly into training and testing\n",
        "X_train, X_test, y_train, y_test = train_test_split(X, y, test_size=0.2)"
      ],
      "metadata": {
        "id": "FH80C8TDRDEg"
      },
      "execution_count": 8,
      "outputs": []
    },
    {
      "cell_type": "markdown",
      "source": [
        "## Standardize the feature values to be between 0 and 1\n",
        "\n",
        "This way we get a better performance since the descrepancy between values is smaller."
      ],
      "metadata": {
        "id": "7OKg9Wk4RLIk"
      }
    },
    {
      "cell_type": "code",
      "source": [
        "# Standardize features values to be between 0 and 1 (for better performance)\n",
        "scaler = StandardScaler()\n",
        "X_train = scaler.fit_transform(X_train)\n",
        "X_test = scaler.transform(X_test)"
      ],
      "metadata": {
        "id": "qGnHOmlyRiFy"
      },
      "execution_count": 9,
      "outputs": []
    },
    {
      "cell_type": "markdown",
      "source": [
        "## Create a list of the pretended classifiers\n",
        "\n",
        "This way code is not only cleaner and more optimized, but also more readable."
      ],
      "metadata": {
        "id": "R42nrXNGSVZu"
      }
    },
    {
      "cell_type": "code",
      "source": [
        "# Create a list of classifiers\n",
        "classifiersNames = ['KNN', 'Decision Tree', 'Random Forest', 'SVM', 'Logistic Regression', 'Multilayer Perceptron']\n",
        "classifiers = [ KNeighborsClassifier(n_neighbors=3),\n",
        "                DecisionTreeClassifier(),\n",
        "                RandomForestClassifier(n_estimators=100),\n",
        "                SVC(),\n",
        "                LogisticRegression(),\n",
        "                MLPClassifier(hidden_layer_sizes=(100, 100, 100), max_iter=1000)\n",
        "            ]"
      ],
      "metadata": {
        "id": "IQbEyUVQSiK3"
      },
      "execution_count": 10,
      "outputs": []
    },
    {
      "cell_type": "markdown",
      "source": [
        "## Train each classifier\n",
        "\n",
        "Because all the classifiers are in a list it's easy to train them all"
      ],
      "metadata": {
        "id": "QMQ4O0U_SmfQ"
      }
    },
    {
      "cell_type": "code",
      "source": [
        "# Train each classifier\n",
        "for classifier in classifiers:\n",
        "    classifier.fit(X_train, y_train)"
      ],
      "metadata": {
        "id": "jpQY49yYStI1"
      },
      "execution_count": 11,
      "outputs": []
    },
    {
      "cell_type": "markdown",
      "source": [
        "## Evaluate each classifier using cross validation\n",
        "\n",
        "StratifiedKFold evaluation with 10 folds and shuffle."
      ],
      "metadata": {
        "id": "hhkDc-kAS4Fr"
      }
    },
    {
      "cell_type": "code",
      "source": [
        "# Evaluate each classifier using cross validation\n",
        "skf = StratifiedKFold(n_splits=10, shuffle=True)\n",
        "\n",
        "# Store the average score of 10 folds for each classifier\n",
        "avgScore = []\n",
        "\n",
        "for classifier, name in zip(classifiers, classifiersNames):\n",
        "    scores = cross_val_score(classifier, X, y, cv=skf) # cross_val_score returns the f1 score for each fold of the cross validation (10 folds) \n",
        "    avgScore.append(scores.mean())\n",
        "    print(name + ' : ' + str(scores.mean())) # Print the mean of the f1 scores"
      ],
      "metadata": {
        "colab": {
          "base_uri": "https://localhost:8080/"
        },
        "id": "xcGhqbPjTUZv",
        "outputId": "e571c2f0-3335-42b2-8068-cd7fdb69dfb8"
      },
      "execution_count": 24,
      "outputs": [
        {
          "output_type": "stream",
          "name": "stdout",
          "text": [
            "KNN : 0.9763157894736842\n",
            "Decision Tree : 0.9789473684210526\n",
            "Random Forest : 0.9815789473684211\n",
            "SVM : 0.9605263157894737\n",
            "Logistic Regression : 0.9631578947368421\n",
            "Multilayer Perceptron : 0.9789473684210526\n"
          ]
        }
      ]
    },
    {
      "cell_type": "markdown",
      "source": [
        "## Plot the cross validation in an histogram"
      ],
      "metadata": {
        "id": "IJu_RLkeZumw"
      }
    },
    {
      "cell_type": "code",
      "source": [
        "plt.figure()\n",
        "plt.title(\"Average Cross Validation Scores\")\n",
        "plt.xticks(rotation='vertical')\n",
        "c = ['red', 'yellow', 'black', 'blue', 'orange', 'green']\n",
        "plt.bar(classifiersNames, avgScore, color=c, align=\"center\")\n",
        "plt.show()"
      ],
      "metadata": {
        "colab": {
          "base_uri": "https://localhost:8080/",
          "height": 378
        },
        "id": "vkXBrqVEZyyQ",
        "outputId": "afd944a8-a6ef-4751-a243-552592b1724a"
      },
      "execution_count": 42,
      "outputs": [
        {
          "output_type": "display_data",
          "data": {
            "text/plain": [
              "<Figure size 432x288 with 1 Axes>"
            ],
            "image/png": "[encoded data removed]"
          },
          "metadata": {
            "needs_background": "light"
          }
        }
      ]
    },
    {
      "cell_type": "markdown",
      "source": [
        "## Plot the ROC curve and AUC\n",
        "\n",
        "Instead of ploting the ROC curve and AUC with the fold values i found it better to simply use the roc_curve() function provided by scikit learn.\n",
        "\n",
        "**fpr**: False positive rates;\n",
        "\n",
        "**tpr**: True positive rates.\n",
        "\n",
        "Since all classifiers are in a list, dictionaries of fpr, tpr and auc were created to make it easy to access the values of each classifier."
      ],
      "metadata": {
        "id": "uLYC5EeeTfWT"
      }
    },
    {
      "cell_type": "code",
      "source": [
        "# Create dictionaries to store the values of each classifier\n",
        "fpr = dict()\n",
        "tpr = dict()\n",
        "roc_auc = dict()\n",
        "\n",
        "for classifier, name in zip(classifiers, classifiersNames):\n",
        "    y_pred = classifier.predict(X_test)\n",
        "    fpr[name], tpr[name], _ = roc_curve(y_test, y_pred) \n",
        "    roc_auc[name] = auc(fpr[name], tpr[name])\n",
        "\n",
        "# Plot all ROC curves\n",
        "plt.figure()\n",
        "lw = 2\n",
        "for name in classifiersNames:\n",
        "    plt.plot(fpr[name], tpr[name], lw=lw, label=name + ' (area = %0.2f)' % roc_auc[name])\n",
        "    \n",
        "plt.plot([0, 1], [0, 1], color='navy', lw=lw, linestyle='--')\n",
        "plt.xlim([0.0, 1.0])\n",
        "plt.ylim([0.0, 1.05])\n",
        "plt.xlabel('False Positive Rate (fpr)')\n",
        "plt.ylabel('True Positive Rate (tpr)')\n",
        "plt.title('ROC curve and AUC')\n",
        "plt.legend(loc=\"lower right\")\n",
        "plt.show()"
      ],
      "metadata": {
        "colab": {
          "base_uri": "https://localhost:8080/",
          "height": 295
        },
        "id": "hbvxmo4vVJIf",
        "outputId": "771d8e12-da73-4cc8-e641-a590b60a8f3f"
      },
      "execution_count": 45,
      "outputs": [
        {
          "output_type": "display_data",
          "data": {
            "text/plain": [
              "<Figure size 432x288 with 1 Axes>"
            ],
            "image/png": "[encoded data removed]"
          },
          "metadata": {
            "needs_background": "light"
          }
        }
      ]
    },
    {
      "cell_type": "markdown",
      "source": [
        "## Find the best classifier using F1 score\n",
        "\n",
        "According to multiple sources, the F1 score is the best metric to determine the best classifier out of the bunch. Therefore i scored each model and chose the one with the highest score."
      ],
      "metadata": {
        "id": "RCEvYQznVgQu"
      }
    },
    {
      "cell_type": "code",
      "source": [
        "bestClassifier = classifiers[0]\n",
        "bestClassifierName = classifiersNames[0]\n",
        "bestScore = 0\n",
        "\n",
        "# List of f1 scores\n",
        "f1Scores = []\n",
        "\n",
        "for classifier, name in zip(classifiers, classifiersNames):\n",
        "    y_pred = classifier.predict(X_test)\n",
        "    score = classifier.score(X_test, y_test)\n",
        "    f1Scores.append(score)\n",
        "    if score >= bestScore:\n",
        "        bestClassifier = classifier\n",
        "        bestClassifierName = name\n",
        "        bestScore = score\n",
        "\n",
        "# Print the best classifier\n",
        "print('Best classifier: ' + bestClassifierName + ' with score: ' + str(bestScore))"
      ],
      "metadata": {
        "colab": {
          "base_uri": "https://localhost:8080/"
        },
        "id": "qfihlI75V2Hp",
        "outputId": "6e6ceba6-ea7f-4f14-a0ee-1475c495d656"
      },
      "execution_count": 34,
      "outputs": [
        {
          "output_type": "stream",
          "name": "stdout",
          "text": [
            "Best classifier: Multilayer Perceptron with score: 0.9868421052631579\n"
          ]
        }
      ]
    },
    {
      "cell_type": "markdown",
      "source": [
        "## Plot the F1 scores for each classifier"
      ],
      "metadata": {
        "id": "hru6RS-4c0wv"
      }
    },
    {
      "cell_type": "code",
      "source": [
        "plt.figure()\n",
        "plt.title(\"Average F1 Scores\")\n",
        "plt.xticks(rotation='vertical')\n",
        "plt.bar(classifiersNames, f1Scores, color=c, align=\"center\")\n",
        "plt.show()"
      ],
      "metadata": {
        "colab": {
          "base_uri": "https://localhost:8080/",
          "height": 378
        },
        "id": "MXf7_w-rc6O6",
        "outputId": "e265b57d-1e1a-44ac-ca84-77d717b997b9"
      },
      "execution_count": 43,
      "outputs": [
        {
          "output_type": "display_data",
          "data": {
            "text/plain": [
              "<Figure size 432x288 with 1 Axes>"
            ],
            "image/png": "[encoded data removed]"
          },
          "metadata": {
            "needs_background": "light"
          }
        }
      ]
    },
    {
      "cell_type": "markdown",
      "source": [
        "## Predict the test dataset using the best classifier"
      ],
      "metadata": {
        "id": "1QnhMpLhWBh6"
      }
    },
    {
      "cell_type": "code",
      "source": [
        "# Predict using the best classifier\n",
        "y_pred = bestClassifier.predict(X_test)"
      ],
      "metadata": {
        "id": "4kVA9WplWKM0"
      },
      "execution_count": 15,
      "outputs": []
    },
    {
      "cell_type": "markdown",
      "source": [
        "## Print the classification report of the best classification model\n",
        "\n",
        "Scikit learn offers a method that prints a detailed report of a classification model."
      ],
      "metadata": {
        "id": "HHew4RDIWOrI"
      }
    },
    {
      "cell_type": "code",
      "source": [
        "print(classification_report(y_test, y_pred))"
      ],
      "metadata": {
        "colab": {
          "base_uri": "https://localhost:8080/"
        },
        "id": "_QPr_PvUWg2J",
        "outputId": "0239f67d-cd3d-47ae-ae5d-0447c1ed5d27"
      },
      "execution_count": 16,
      "outputs": [
        {
          "output_type": "stream",
          "name": "stdout",
          "text": [
            "              precision    recall  f1-score   support\n",
            "\n",
            "         0.0       0.98      1.00      0.99        53\n",
            "         1.0       1.00      0.96      0.98        23\n",
            "\n",
            "    accuracy                           0.99        76\n",
            "   macro avg       0.99      0.98      0.98        76\n",
            "weighted avg       0.99      0.99      0.99        76\n",
            "\n"
          ]
        }
      ]
    }
  ]
}